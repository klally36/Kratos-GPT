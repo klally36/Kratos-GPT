{
 "cells": [
  {
   "cell_type": "code",
   "execution_count": null,
   "metadata": {
    "is_executing": true
   },
   "outputs": [],
   "source": [
    "from functions.preprocess import preprocess_training_video\n",
    "\n",
    "# Specify the path to your video file\n",
    "video_path = \"training_videos/atreus_training_video.mp4\"\n",
    "\n",
    "# Call the function to perform object detection on the video\n",
    "preprocess_training_video(video_path)"
   ]
  },
  {
   "cell_type": "code",
   "execution_count": null,
   "metadata": {
    "is_executing": true
   },
   "outputs": [],
   "source": [
    "from functions.dataset import create_dataset\n",
    "\n",
    "# Set the paths to video_paths and set the values in threshold_list\n",
    "video_paths = ['preprocessed_videos/Draugr.mp4', 'preprocessed_videos/Atreus.mp4', 'preprocessed_videos/Kratos.mp4']\n",
    "threshold_list = [0.6, 0.7, 0.9]\n",
    "\n",
    "# Create the dataset\n",
    "create_dataset(video_paths, threshold_list)"
   ]
  },
  {
   "cell_type": "code",
   "execution_count": 1,
   "metadata": {
    "ExecuteTime": {
     "end_time": "2024-02-20T14:27:59.528199Z",
     "start_time": "2024-02-20T14:27:59.417425Z"
    }
   },
   "outputs": [
    {
     "ename": "ModuleNotFoundError",
     "evalue": "No module named 'ultralytics'",
     "output_type": "error",
     "traceback": [
      "\u001B[0;31m---------------------------------------------------------------------------\u001B[0m",
      "\u001B[0;31mModuleNotFoundError\u001B[0m                       Traceback (most recent call last)",
      "Cell \u001B[0;32mIn[1], line 1\u001B[0m\n\u001B[0;32m----> 1\u001B[0m \u001B[38;5;28;01mfrom\u001B[39;00m \u001B[38;5;21;01mfunctions\u001B[39;00m\u001B[38;5;21;01m.\u001B[39;00m\u001B[38;5;21;01mtrain\u001B[39;00m \u001B[38;5;28;01mimport\u001B[39;00m train_model\n\u001B[1;32m      3\u001B[0m \u001B[38;5;66;03m# Set the path to the dataset YAML file\u001B[39;00m\n\u001B[1;32m      4\u001B[0m dataset_yaml \u001B[38;5;241m=\u001B[39m \u001B[38;5;124m\"\u001B[39m\u001B[38;5;124mdataset.yaml\u001B[39m\u001B[38;5;124m\"\u001B[39m\n",
      "File \u001B[0;32m~/Downloads/AI-Plays-God-of-War-main/functions/train.py:1\u001B[0m\n\u001B[0;32m----> 1\u001B[0m \u001B[38;5;28;01mfrom\u001B[39;00m \u001B[38;5;21;01multralytics\u001B[39;00m \u001B[38;5;28;01mimport\u001B[39;00m YOLO\n\u001B[1;32m      3\u001B[0m \u001B[38;5;28;01mdef\u001B[39;00m \u001B[38;5;21mtrain_model\u001B[39m(dataset_yaml, num_epochs, img_size):\n\u001B[1;32m      4\u001B[0m     \u001B[38;5;66;03m# Load the YOLO model\u001B[39;00m\n\u001B[1;32m      5\u001B[0m     model \u001B[38;5;241m=\u001B[39m YOLO()\n",
      "\u001B[0;31mModuleNotFoundError\u001B[0m: No module named 'ultralytics'"
     ]
    }
   ],
   "source": [
    "from functions.train import train_model\n",
    "\n",
    "# Set the path to the dataset YAML file\n",
    "dataset_yaml = \"dataset.yaml\"\n",
    "\n",
    "# Set the number of training epochs and image size\n",
    "num_epochs = 100\n",
    "\n",
    "# Set imgsz \n",
    "img_size = 640\n",
    "\n",
    "# Train the model using the dataset\n",
    "train_model(dataset_yaml, num_epochs, img_size)"
   ]
  },
  {
   "cell_type": "code",
   "execution_count": null,
   "metadata": {},
   "outputs": [],
   "source": [
    "from functions.play import play_game\n",
    "import time\n",
    "\n",
    "# sleep for some time to give me time to open the game\n",
    "time.sleep(100)\n",
    "\n",
    "# Call the function to perform object detection on the screen\n",
    "play_game()"
   ]
  }
 ],
 "metadata": {
  "kernelspec": {
   "display_name": "myenv",
   "language": "python",
   "name": "python3"
  },
  "language_info": {
   "codemirror_mode": {
    "name": "ipython",
    "version": 3
   },
   "file_extension": ".py",
   "mimetype": "text/x-python",
   "name": "python",
   "nbconvert_exporter": "python",
   "pygments_lexer": "ipython3",
   "version": "3.11.4"
  },
  "orig_nbformat": 4
 },
 "nbformat": 4,
 "nbformat_minor": 2
}
